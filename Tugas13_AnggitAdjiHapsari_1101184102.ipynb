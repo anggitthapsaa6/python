{
  "nbformat": 4,
  "nbformat_minor": 0,
  "metadata": {
    "colab": {
      "name": "Tugas13_AnggitAdjiHapsari_1101184102.ipynb",
      "provenance": [],
      "include_colab_link": true
    },
    "kernelspec": {
      "name": "python3",
      "display_name": "Python 3"
    }
  },
  "cells": [
    {
      "cell_type": "markdown",
      "metadata": {
        "id": "view-in-github",
        "colab_type": "text"
      },
      "source": [
        "<a href=\"https://colab.research.google.com/github/anggitthapsaa6/python/blob/main/Tugas13_AnggitAdjiHapsari_1101184102.ipynb\" target=\"_parent\"><img src=\"https://colab.research.google.com/assets/colab-badge.svg\" alt=\"Open In Colab\"/></a>"
      ]
    },
    {
      "cell_type": "markdown",
      "metadata": {
        "id": "6TrGZpCYQbZl"
      },
      "source": [
        "# Tugas Python-13 IjlalWimpi_1101184359"
      ]
    },
    {
      "cell_type": "markdown",
      "metadata": {
        "id": "bJvxhpbvwZIv"
      },
      "source": [
        "# Grafik 1 - FREKUENSI 1800 Mhz"
      ]
    },
    {
      "cell_type": "code",
      "metadata": {
        "id": "_a_N7F-JBnG8"
      },
      "source": [
        "import numpy as np\n",
        "import matplotlib.pyplot as plt\n"
      ],
      "execution_count": 1,
      "outputs": []
    },
    {
      "cell_type": "code",
      "metadata": {
        "id": "EJUGiqITQfx5"
      },
      "source": [
        "def cos(frek,tipe,ht,hr,d):\n",
        "    if frek in range(150,1501):\n",
        "        Ca=69.55\n",
        "        Cb=26.16\n",
        "    elif frek in range(1501,2001):\n",
        "        Ca=46.3\n",
        "        Cb=33.9\n",
        "    \n",
        "    if tipe=='urban' :\n",
        "        Cm=0\n",
        "    elif tipe=='suburban' :\n",
        "        Cm= -2*((np.log10((frek/28)**2))-5.4)\n",
        "    elif tipe=='open' :\n",
        "        Cm= -4.78*(np.log10(frek))+18.33*(np.log10(frek))-40.94\n",
        "    else :\n",
        "        Cm='tipe salah'\n",
        "    \n",
        "    ahr = (1.1*np.log10(frek)-0.7)*hr-(1.56*np.log10(frek)-1.8)\n",
        "    Lp = Ca+(Cb*np.log10(frek))-(13.83*np.log(ht))-ahr+((44.9-6.55*np.log10(ht))*np.log10(d))-Cm\n",
        "    \n",
        "    return Lp"
      ],
      "execution_count": 2,
      "outputs": []
    },
    {
      "cell_type": "code",
      "metadata": {
        "id": "53d-Ye-LQlXh"
      },
      "source": [
        "f=1800 #MHz\n",
        "zona_a='urban'\n",
        "zona_b='suburban'\n",
        "zona_c='open'\n",
        "tower=80 #m\n",
        "user=1.5 #m\n",
        "dmin=200 #m\n",
        "dmax=700 #m\n",
        "N=200 #titik\n",
        "d=np.random.randint(dmin,dmax,N)"
      ],
      "execution_count": 3,
      "outputs": []
    },
    {
      "cell_type": "code",
      "metadata": {
        "colab": {
          "base_uri": "https://localhost:8080/"
        },
        "id": "qhdPl7JETiqL",
        "outputId": "5c4e7fe5-65cd-4df2-9d70-cca12814f1af"
      },
      "source": [
        "print(d)"
      ],
      "execution_count": 4,
      "outputs": [
        {
          "output_type": "stream",
          "text": [
            "[250 247 505 412 386 672 223 327 200 644 260 578 206 349 286 421 614 548\n",
            " 557 504 660 672 467 254 297 315 422 292 429 411 266 280 267 290 298 470\n",
            " 627 482 681 516 547 306 646 201 350 276 575 529 580 692 319 600 626 671\n",
            " 598 447 346 398 632 363 454 487 491 610 322 271 474 370 570 219 244 581\n",
            " 537 684 370 301 580 442 454 218 430 318 231 346 505 368 485 656 544 626\n",
            " 630 644 470 316 681 666 627 570 657 520 575 626 320 408 502 508 362 332\n",
            " 378 439 437 585 288 337 313 550 609 378 314 548 459 470 320 466 686 676\n",
            " 552 504 276 654 579 481 582 276 655 308 682 201 385 502 491 592 486 479\n",
            " 304 295 301 297 239 217 424 301 398 241 611 470 274 638 210 622 490 451\n",
            " 646 285 439 419 689 356 329 297 563 278 682 324 308 641 365 219 650 669\n",
            " 461 351 407 612 471 322 246 246 249 371 614 311 621 634 336 604 605 510\n",
            " 235 570]\n"
          ],
          "name": "stdout"
        }
      ]
    },
    {
      "cell_type": "code",
      "metadata": {
        "id": "IgW6t5oSRMBQ"
      },
      "source": [
        "LpUrban=cos(f,zona_a,tower,user,d)\r\n",
        "LpSuburban=cos(f,zona_b,tower,user,d)\r\n",
        "LpOpen=cos(f,zona_c,tower,user,d)"
      ],
      "execution_count": 5,
      "outputs": []
    },
    {
      "cell_type": "code",
      "metadata": {
        "id": "MbvWh9qIRkKJ"
      },
      "source": [
        "d_sort=d[np.argsort(d)]\n",
        "Urban_sort=LpUrban[np.argsort(d)]\n",
        "Suburban_sort=LpSuburban[np.argsort(d)]\n",
        "Open_sort=LpOpen[np.argsort(d)]"
      ],
      "execution_count": 6,
      "outputs": []
    },
    {
      "cell_type": "markdown",
      "metadata": {
        "id": "fqJ4Fx86Njge"
      },
      "source": [
        "# Gambar Kurva"
      ]
    },
    {
      "cell_type": "code",
      "metadata": {
        "colab": {
          "base_uri": "https://localhost:8080/",
          "height": 295
        },
        "id": "79YaOB0uSBn6",
        "outputId": "db35f723-a731-4f9a-a4c1-dc7cad3c4ff8"
      },
      "source": [
        "plt.figure()\n",
        "plt.plot(d_sort,Urban_sort,'r-', label='Urban')\n",
        "plt.plot(d_sort,Suburban_sort,'k-', label='Suburban')\n",
        "plt.plot(d_sort,Open_sort,'g-', label='Open')\n",
        "plt.legend()\n",
        "plt.title('Frekuensi 1800 MHz')\n",
        "plt.xlabel('Jarak (m)')\n",
        "plt.ylabel('Path Loss (dB)')\n",
        "plt.show()\n"
      ],
      "execution_count": 7,
      "outputs": [
        {
          "output_type": "display_data",
          "data": {
            "image/png": "[encoded data removed]",
            "text/plain": [
              "<Figure size 432x288 with 1 Axes>"
            ]
          },
          "metadata": {
            "tags": [],
            "needs_background": "light"
          }
        }
      ]
    },
    {
      "cell_type": "markdown",
      "metadata": {
        "id": "19wUqWa9woIn"
      },
      "source": [
        "# Grafik 2 - Model Urban"
      ]
    },
    {
      "cell_type": "code",
      "metadata": {
        "id": "Zk1jSdPexLIp"
      },
      "source": [
        "f=700 #MHz\n",
        "f2=900 #MHz\n",
        "f3=1800 #MHz\n",
        "zona_a='urban'\n",
        "tower=80 #m\n",
        "user=1.5 #m\n",
        "dmin=200 #m\n",
        "dmax=700 #m\n",
        "N=200 #titik\n",
        "d=np.random.randint(dmin,dmax,N)"
      ],
      "execution_count": 8,
      "outputs": []
    },
    {
      "cell_type": "code",
      "metadata": {
        "id": "Y1iMo8EvwyuB"
      },
      "source": [
        "LpUrban=cos(f,zona_a,tower,user,d)\r\n",
        "LpUrban2=cos(f2,zona_a,tower,user,d)\r\n",
        "LpUrban3=cos(f3,zona_a,tower,user,d)"
      ],
      "execution_count": 9,
      "outputs": []
    },
    {
      "cell_type": "code",
      "metadata": {
        "id": "AmH-XbCqxfa5"
      },
      "source": [
        "d_sort=d[np.argsort(d)]\r\n",
        "Urban_sort=LpUrban[np.argsort(d)]\r\n",
        "Urban2_sort=LpUrban2[np.argsort(d)]\r\n",
        "Urban3_sort=LpUrban3[np.argsort(d)]"
      ],
      "execution_count": 10,
      "outputs": []
    },
    {
      "cell_type": "markdown",
      "metadata": {
        "id": "myQOO0170ERp"
      },
      "source": [
        "# Gambar Kurva "
      ]
    },
    {
      "cell_type": "code",
      "metadata": {
        "colab": {
          "base_uri": "https://localhost:8080/",
          "height": 295
        },
        "id": "SVEprCkIyFnx",
        "outputId": "562c8d5e-186a-412b-9389-b47274ee4d26"
      },
      "source": [
        "plt.figure()\n",
        "plt.plot(d_sort,Urban_sort,'r-', label='700 Mhz')\n",
        "plt.plot(d_sort,Urban2_sort,'k-', label='900 Mhz')\n",
        "plt.plot(d_sort,Urban3_sort,'g-', label='1800 Mhz')\n",
        "plt.legend()\n",
        "plt.title('Model Urban')\n",
        "plt.xlabel('Jarak (m)')\n",
        "plt.ylabel('Path Loss (dB)')\n",
        "plt.show()\n"
      ],
      "execution_count": 11,
      "outputs": [
        {
          "output_type": "display_data",
          "data": {
            "image/png": "[encoded data removed]",
            "text/plain": [
              "<Figure size 432x288 with 1 Axes>"
            ]
          },
          "metadata": {
            "tags": [],
            "needs_background": "light"
          }
        }
      ]
    }
  ]
}