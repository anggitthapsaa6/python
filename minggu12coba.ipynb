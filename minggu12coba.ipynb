{
  "nbformat": 4,
  "nbformat_minor": 0,
  "metadata": {
    "colab": {
      "name": "minggu12coba.ipynb",
      "provenance": [],
      "include_colab_link": true
    },
    "kernelspec": {
      "name": "python3",
      "display_name": "Python 3"
    }
  },
  "cells": [
    {
      "cell_type": "markdown",
      "metadata": {
        "id": "view-in-github",
        "colab_type": "text"
      },
      "source": [
        "<a href=\"https://colab.research.google.com/github/anggitthapsaa6/python/blob/main/minggu12coba.ipynb\" target=\"_parent\"><img src=\"https://colab.research.google.com/assets/colab-badge.svg\" alt=\"Open In Colab\"/></a>"
      ]
    },
    {
      "cell_type": "code",
      "metadata": {
        "id": "WZvboBEYgt_m"
      },
      "source": [
        "import numpy as np"
      ],
      "execution_count": null,
      "outputs": []
    },
    {
      "cell_type": "code",
      "metadata": {
        "id": "kOm8ZRALg9kO"
      },
      "source": [
        "NtL = lambda x : 10*np.log10(x) "
      ],
      "execution_count": null,
      "outputs": []
    },
    {
      "cell_type": "code",
      "metadata": {
        "colab": {
          "base_uri": "https://localhost:8080/"
        },
        "id": "KCqgNUp0hORW",
        "outputId": "8501b4c9-4805-45f2-94cb-4f5124de15e3"
      },
      "source": [
        "z=NtL(100)\r\n",
        "print(z)"
      ],
      "execution_count": null,
      "outputs": [
        {
          "output_type": "stream",
          "text": [
            "20.0\n"
          ],
          "name": "stdout"
        }
      ]
    },
    {
      "cell_type": "code",
      "metadata": {
        "id": "h_wHRIcmhVRz"
      },
      "source": [
        "LtN = lambda x: 10**(x/10)"
      ],
      "execution_count": null,
      "outputs": []
    },
    {
      "cell_type": "code",
      "metadata": {
        "colab": {
          "base_uri": "https://localhost:8080/"
        },
        "id": "YmlZD1eFixJE",
        "outputId": "45f9f9ca-bc3a-44ac-fbe6-ced8bee56678"
      },
      "source": [
        "y=LtN(20)\r\n",
        "print(y)"
      ],
      "execution_count": null,
      "outputs": [
        {
          "output_type": "stream",
          "text": [
            "100.0\n"
          ],
          "name": "stdout"
        }
      ]
    },
    {
      "cell_type": "code",
      "metadata": {
        "colab": {
          "base_uri": "https://localhost:8080/"
        },
        "id": "jl_gZRZCkjcl",
        "outputId": "e31c92cd-ca38-40ac-e62e-9b1cf5017788"
      },
      "source": [
        "cm=''\r\n",
        "\r\n",
        "print(\"masukkan area :\")\r\n",
        "cm=input()\r\n",
        "\r\n",
        "print(\"masukkan frekuensi :\")\r\n",
        "f=int(input())\r\n",
        "\r\n",
        "print(\"masukkan tinggi antenna pemancar (m) :\")\r\n",
        "ht=int(input())\r\n",
        "\r\n",
        "print(\"masukkan tinggi antenna penerima (m) :\")\r\n",
        "hr=int(input())\r\n",
        "\r\n",
        "print(\"masukkan jarak :\")\r\n",
        "d=int(input())\r\n",
        "\r\n",
        "1\r\n",
        "\r\n"
      ],
      "execution_count": null,
      "outputs": [
        {
          "output_type": "stream",
          "text": [
            "masukkan area :\n",
            "urban\n",
            "masukkan frekuensi :\n",
            "200\n",
            "masukkan tinggi antenna pemancar (m) :\n",
            "50\n",
            "masukkan tinggi antenna penerima (m) :\n",
            "30\n",
            "masukkan jarak :\n",
            "1000\n"
          ],
          "name": "stdout"
        }
      ]
    },
    {
      "cell_type": "code",
      "metadata": {
        "colab": {
          "base_uri": "https://localhost:8080/",
          "height": 130
        },
        "id": "OxT7ojCLq9Bo",
        "outputId": "210eac5d-3796-4ae5-e0d9-8afaef8ee963"
      },
      "source": [
        "def ploss(f,ht,hr,d,cm):\r\n",
        "\r\n",
        "   ahr = 1.1*np.log(f)-0.7*hr−(1.56*np.log(f)−0.8)\r\n",
        "\r\n",
        "  if cm == 'Urban':\r\n",
        "    Cm=0\r\n",
        "  elif cm == 'Suburban':\r\n",
        "    Cm= −2*(np.log(f/28))**2−5.4\r\n",
        "  elif cm == 'Open':\r\n",
        "    Cm= −4.78*(np.log(f))**2 + 18.33*np.log(f) − 40.94\r\n",
        "  else :\r\n",
        "    print('salah')\r\n",
        "\r\n",
        "  if 400 <= f < 1500 :\r\n",
        "    c1=69.55\r\n",
        "    c2=26.16\r\n",
        "  elif 1500 <= f <= 2000 :\r\n",
        "    c1=46.3\r\n",
        "    c2=33.9\r\n",
        "  else :\r\n",
        "    print('salah input keles')\r\n",
        "\r\n",
        "  lp = c1 + c2*np.log f − 13.83*np.log ht − ahr + (44.9 − 6.55*np.log ht)*np.log d + Cm\r\n",
        "\r\n",
        "  return lp"
      ],
      "execution_count": null,
      "outputs": [
        {
          "output_type": "error",
          "ename": "SyntaxError",
          "evalue": "ignored",
          "traceback": [
            "\u001b[0;36m  File \u001b[0;32m\"<ipython-input-11-2c88548638c4>\"\u001b[0;36m, line \u001b[0;32m3\u001b[0m\n\u001b[0;31m    ahr = 1.1*np.log(f)- 0.7* hr − (1.56 * np.log(f) − 0.8)\u001b[0m\n\u001b[0m                                 ^\u001b[0m\n\u001b[0;31mSyntaxError\u001b[0m\u001b[0;31m:\u001b[0m invalid character in identifier\n"
          ]
        }
      ]
    },
    {
      "cell_type": "code",
      "metadata": {
        "id": "6TQ5-b694sGC"
      },
      "source": [
        ""
      ],
      "execution_count": null,
      "outputs": []
    }
  ]
}